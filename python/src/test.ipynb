{
 "cells": [
  {
   "cell_type": "code",
   "execution_count": 23,
   "metadata": {},
   "outputs": [],
   "source": [
    "import numpy as np\n",
    "import glm"
   ]
  },
  {
   "cell_type": "code",
   "execution_count": 10,
   "metadata": {},
   "outputs": [],
   "source": [
    "arr = [[0.2792197593878132, -0.6059465388668052, 0.0, 0.2792197593878132, -0.505946538866804, 0.0, -0.22078024061218762, -0.505946538866804, 0.0], [-1.0, -0.505, 0.0, 1.0, -0.505, 0.0, 1.0, -0.495, 0.0, -1.0, -0.495, 0.0], [0.235343957246927, -1.0683065832272352, 0.0, 0.09149099560023215, -0.5894471827499408, 0.0, -0.004280884495223049, -0.6182177750792701, 0.0, 0.1395720771514758, -1.0970771755565707, 0.0]]"
   ]
  },
  {
   "cell_type": "code",
   "execution_count": 29,
   "metadata": {},
   "outputs": [
    {
     "data": {
      "text/plain": [
       "array([ 0.27921976, -0.60594654,  0.        ,  0.27921976, -0.50594654,\n",
       "        0.        , -0.22078024, -0.50594654,  0.        , -1.        ,\n",
       "       -0.505     ,  0.        ,  1.        , -0.505     ,  0.        ,\n",
       "        1.        , -0.495     ,  0.        , -1.        , -0.495     ,\n",
       "        0.        ,  0.23534396, -1.06830658,  0.        ,  0.091491  ,\n",
       "       -0.58944718,  0.        , -0.00428088, -0.61821778,  0.        ,\n",
       "        0.13957208, -1.09707718,  0.        ])"
      ]
     },
     "execution_count": 29,
     "metadata": {},
     "output_type": "execute_result"
    }
   ],
   "source": [
    "np.array([c for obj in arr for c in obj])"
   ]
  },
  {
   "cell_type": "code",
   "execution_count": 32,
   "metadata": {},
   "outputs": [],
   "source": [
    "vertex 버퍼에 삼각형을 시간에 따라 움직이게 렌더링 해줘\n",
    "\n"
   ]
  }
 ],
 "metadata": {
  "kernelspec": {
   "display_name": "Python 3",
   "language": "python",
   "name": "python3"
  },
  "language_info": {
   "codemirror_mode": {
    "name": "ipython",
    "version": 3
   },
   "file_extension": ".py",
   "mimetype": "text/x-python",
   "name": "python",
   "nbconvert_exporter": "python",
   "pygments_lexer": "ipython3",
   "version": "3.8.10"
  },
  "orig_nbformat": 4
 },
 "nbformat": 4,
 "nbformat_minor": 2
}
